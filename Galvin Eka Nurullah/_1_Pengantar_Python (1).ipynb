{
  "cells": [
    {
      "cell_type": "markdown",
      "metadata": {
        "id": "RHAbEQXRcpYk"
      },
      "source": [
        "# **Pengantar**\n",
        "\n",
        "Python is an object-oriented language that was developed in late 1980s as a scripting language (the name is derived from the British television show Monty Python’s Flying Circus).\n",
        "Python has other advantages over mainstream languages that are important in a learning environment:\n",
        "*   Python is open-source software, which means that it is free; it is included in most Linux distributions.\n",
        "*   Python is available for all major operating systems (Linux, Unix, Windows, Mac OS etc.). A program written on one system runs without modiﬁcation on all systems.\n",
        "*   Python is easier to learn and produces more readable code than other languages.\n",
        "*   Python and its extensions are easy to install.\n",
        "\n",
        "\n",
        "\n",
        "\n"
      ]
    },
    {
      "cell_type": "markdown",
      "metadata": {
        "id": "UjpvXfpHimAW"
      },
      "source": [
        "#**Eksplorasi Code Program berikut!**\n",
        "Berikan komentar (#komentar) pada bagian-bagian yang menurut anda penting!"
      ]
    },
    {
      "cell_type": "markdown",
      "metadata": {
        "id": "nBYpWT0ddRg5"
      },
      "source": [
        "**Variabel**"
      ]
    },
    {
      "cell_type": "code",
      "execution_count": null,
      "metadata": {
        "colab": {
          "base_uri": "https://localhost:8080/"
        },
        "id": "syE7pWhXcST4",
        "outputId": "30b1c827-b944-4a05-ce70-f5353b2955dd"
      },
      "outputs": [
        {
          "name": "stdout",
          "output_type": "stream",
          "text": [
            "2\n"
          ]
        }
      ],
      "source": [
        "b=2 \n",
        "print(b)"
      ]
    },
    {
      "cell_type": "code",
      "execution_count": null,
      "metadata": {
        "colab": {
          "base_uri": "https://localhost:8080/"
        },
        "id": "t2rN6MaxeD9D",
        "outputId": "1f719542-37de-4c59-a56e-5e89fb8ebd03"
      },
      "outputs": [
        {
          "name": "stdout",
          "output_type": "stream",
          "text": [
            "4.0\n"
          ]
        }
      ],
      "source": [
        "b=b*2.0 \n",
        "print(b)"
      ]
    },
    {
      "cell_type": "markdown",
      "metadata": {
        "id": "0rxckwD4cndk"
      },
      "source": [
        "**String**"
      ]
    },
    {
      "cell_type": "code",
      "execution_count": null,
      "metadata": {
        "colab": {
          "base_uri": "https://localhost:8080/"
        },
        "id": "nF7A6avWealH",
        "outputId": "8028fd0e-796e-4160-9f32-635694e81a46"
      },
      "outputs": [
        {
          "name": "stdout",
          "output_type": "stream",
          "text": [
            "Press return to exit\n",
            "the program\n",
            "Press return to exit  the program\n",
            "Press return\n"
          ]
        }
      ],
      "source": [
        "string1 = 'Press return to exit'\n",
        "string2 = 'the program'\n",
        "print(string1)\n",
        "print(string2)\n",
        "print(string1 ,'',string2)\n",
        "print(string1[0:12])"
      ]
    },
    {
      "cell_type": "markdown",
      "metadata": {
        "id": "1OKFGMiZf51N"
      },
      "source": [
        "**Tuples**"
      ]
    },
    {
      "cell_type": "code",
      "execution_count": null,
      "metadata": {
        "colab": {
          "base_uri": "https://localhost:8080/"
        },
        "id": "cxMAOoEXf_3h",
        "outputId": "1caebed5-e924-480b-dfeb-fb0249653d9c"
      },
      "outputs": [
        {
          "name": "stdout",
          "output_type": "stream",
          "text": [
            "Junaeti\n",
            "Junaeti\n",
            "Enjun Junaeti\n",
            "(12, 20, 1985)\n"
          ]
        }
      ],
      "source": [
        "rec = ('Junaeti','Enjun',(12,20,1985))\n",
        "lastName, firstName, birthdate = rec\n",
        "print(rec[0])\n",
        "print(lastName)\n",
        "nama = rec[1] + ' ' + rec[0]\n",
        "print(nama)\n",
        "birtYear = birthdate[2]\n",
        "print(birthdate)"
      ]
    },
    {
      "cell_type": "markdown",
      "metadata": {
        "id": "Ee1Jmw6LjJRh"
      },
      "source": [
        "**List**"
      ]
    },
    {
      "cell_type": "code",
      "execution_count": null,
      "metadata": {
        "colab": {
          "base_uri": "https://localhost:8080/"
        },
        "id": "d9N72NGijMN4",
        "outputId": "f7c9817b-6c73-4af6-e009-c1638be2c142"
      },
      "outputs": [],
      "source": [
        "a = [1.0, 2.0, 3.0]\n",
        "a.append(4.0)\n",
        "print(a)\n",
        "a.insert(0,0.0)\n",
        "print(a) \n",
        "print (len(a))\n",
        "a[2:4] = [1.0, 1.0]\n",
        "print(a)  "
      ]
    },
    {
      "cell_type": "code",
      "execution_count": null,
      "metadata": {
        "colab": {
          "base_uri": "https://localhost:8080/"
        },
        "id": "ka4yWSAqj_qL",
        "outputId": "9befdcab-00de-4b77-b67d-6c052dcd168e"
      },
      "outputs": [
        {
          "name": "stdout",
          "output_type": "stream",
          "text": [
            "[5.0, 2.0, 3.0]\n"
          ]
        }
      ],
      "source": [
        "a = [1.0, 2.0, 3.0]\n",
        "b=a\n",
        "b[0] = 5.0\n",
        "print (a)\n"
      ]
    },
    {
      "cell_type": "code",
      "execution_count": null,
      "metadata": {
        "colab": {
          "base_uri": "https://localhost:8080/"
        },
        "id": "PXWVRhjOkRjB",
        "outputId": "e6462db9-3230-4bf5-988e-a9753ca941ca"
      },
      "outputs": [
        {
          "name": "stdout",
          "output_type": "stream",
          "text": [
            "[5.0, 2.0, 3.0]\n"
          ]
        }
      ],
      "source": [
        "a = [5.0, 2.0, 3.0]\n",
        "c = a[:] \n",
        "c[0]=1.0\n",
        "print(a)"
      ]
    },
    {
      "cell_type": "markdown",
      "metadata": {
        "id": "Dx6L9B-Cklpn"
      },
      "source": [
        "**Matriks**"
      ]
    },
    {
      "cell_type": "code",
      "execution_count": null,
      "metadata": {
        "colab": {
          "base_uri": "https://localhost:8080/"
        },
        "id": "W7heORidkzd9",
        "outputId": "d83981b9-18c9-4a2b-aabb-1f960bedfdab"
      },
      "outputs": [
        {
          "name": "stdout",
          "output_type": "stream",
          "text": [
            "[4, 5, 6]\n",
            "6\n"
          ]
        }
      ],
      "source": [
        "A =[[1, 2, 3], \\\n",
        "[4, 5, 6], \\\n",
        "[7, 8, 9]]\n",
        "print(A[1])\n",
        "print(A[1][2])"
      ]
    },
    {
      "cell_type": "markdown",
      "metadata": {
        "id": "VEzTCiLNlATT"
      },
      "source": [
        "**Operasi Aritmatika**"
      ]
    },
    {
      "cell_type": "code",
      "execution_count": null,
      "metadata": {
        "colab": {
          "base_uri": "https://localhost:8080/"
        },
        "id": "W1buzrJylEtw",
        "outputId": "e343c2d6-b16a-449f-b831-bfa6ea7445ab"
      },
      "outputs": [
        {
          "name": "stdout",
          "output_type": "stream",
          "text": [
            "HelloHelloHello\n",
            "[1, 2, 3, 1, 2, 3, 1, 2, 3]\n",
            "[1, 2, 3, 4, 5]\n",
            "Helloto you\n",
            "Hello to you\n"
          ]
        }
      ],
      "source": [
        "s = 'Hello'\n",
        "t = 'to you'\n",
        "a = [1, 2, 3]\n",
        "print (3*s) \n",
        "print (3*a) \n",
        "print (a + [4, 5]) \n",
        "print(s+t) \n",
        "print(s+' '+t)"
      ]
    },
    {
      "cell_type": "code",
      "execution_count": null,
      "metadata": {
        "colab": {
          "base_uri": "https://localhost:8080/"
        },
        "id": "YYntmfiWmh77",
        "outputId": "6db92d09-315f-4910-a8ea-6570cf2f3113"
      },
      "outputs": [
        {
          "name": "stdout",
          "output_type": "stream",
          "text": [
            "5\n",
            "2\n",
            "6\n",
            "2.0\n",
            "8.0\n",
            "2.0\n"
          ]
        }
      ],
      "source": [
        "a=2\n",
        "b=3\n",
        "a+=b\n",
        "print(a)\n",
        "a-=b\n",
        "print(a)\n",
        "a*=b\n",
        "print(a)\n",
        "a/=b\n",
        "print(a)\n",
        "a**=b\n",
        "print(a)\n",
        "a%=b\n",
        "print(a)"
      ]
    },
    {
      "cell_type": "markdown",
      "metadata": {
        "id": "JFVcYNqLnpAn"
      },
      "source": [
        "**Operator Perbandingan**"
      ]
    },
    {
      "cell_type": "code",
      "execution_count": null,
      "metadata": {
        "colab": {
          "base_uri": "https://localhost:8080/"
        },
        "id": "EdLv17nOnkvN",
        "outputId": "1cebda09-71f4-47c4-b40f-2ea3a5e76b31"
      },
      "outputs": [
        {
          "name": "stdout",
          "output_type": "stream",
          "text": [
            "True\n",
            "False\n",
            "True\n",
            "True\n"
          ]
        },
        {
          "data": {
            "text/plain": [
              "False"
            ]
          },
          "execution_count": 46,
          "metadata": {},
          "output_type": "execute_result"
        }
      ],
      "source": [
        "a = 2 \n",
        "b = 1.99 \n",
        "c = '2'\n",
        "print(a>b)\n",
        "print (a == c)\n",
        "print (a > b) and (a != c)\n",
        "print (a > b) or (a == b)\n"
      ]
    },
    {
      "cell_type": "markdown",
      "metadata": {
        "id": "eDXR6TYLoHtN"
      },
      "source": [
        "**Percabangan**"
      ]
    },
    {
      "cell_type": "code",
      "execution_count": null,
      "metadata": {
        "colab": {
          "base_uri": "https://localhost:8080/"
        },
        "id": "m90Rv9E6oKN1",
        "outputId": "a10a8218-efe9-4f4b-c59f-5d6755b334dd"
      },
      "outputs": [
        {
          "name": "stdout",
          "output_type": "stream",
          "text": [
            "a is positive\n"
          ]
        }
      ],
      "source": [
        "def sign_of_a(a):\n",
        "  if a < 0.0:\n",
        "    sign = 'negative'\n",
        "  elif a > 0.0:\n",
        "    sign = 'positive'\n",
        "  else:\n",
        "    sign = 'zero'\n",
        "  return sign\n",
        "a = 1.5\n",
        "print ('a is ' + sign_of_a(a))"
      ]
    },
    {
      "cell_type": "markdown",
      "metadata": {
        "id": "0qOVC0wJqFbW"
      },
      "source": [
        "**Loops**"
      ]
    },
    {
      "cell_type": "code",
      "execution_count": null,
      "metadata": {
        "colab": {
          "base_uri": "https://localhost:8080/"
        },
        "id": "nvlN4WbSqH1c",
        "outputId": "0dfe4718-77e8-4c94-92bc-410b33d20557"
      },
      "outputs": [
        {
          "name": "stdout",
          "output_type": "stream",
          "text": [
            "[1.0, 0.5, 0.3333333333333333, 0.25]\n"
          ]
        }
      ],
      "source": [
        "nMax = 5\n",
        "n=1\n",
        "a = [] # Create empty list\n",
        "while n < nMax:\n",
        "  a.append(1.0/n) # Append element to list\n",
        "  n=n+1\n",
        "print (a)"
      ]
    },
    {
      "cell_type": "code",
      "execution_count": null,
      "metadata": {
        "colab": {
          "base_uri": "https://localhost:8080/"
        },
        "id": "Ag0YFggLqdnD",
        "outputId": "56394391-ddaa-4ea1-8055-17bc586dbc44"
      },
      "outputs": [
        {
          "name": "stdout",
          "output_type": "stream",
          "text": [
            "[1.0, 0.5, 0.3333333333333333, 0.25]\n"
          ]
        }
      ],
      "source": [
        "nMax = 5\n",
        "a=[]\n",
        "for n in range(1,nMax):\n",
        "  a.append(1.0/n)\n",
        "print (a)"
      ]
    },
    {
      "cell_type": "code",
      "execution_count": null,
      "metadata": {
        "colab": {
          "base_uri": "https://localhost:8080/"
        },
        "id": "q3kiYQLlqph7",
        "outputId": "630e6642-8cf6-49e1-98ed-d19c0b91b65f"
      },
      "outputs": [],
      "source": [
        "list = ['Jack', 'Jill', 'Tim', 'Dave']\n",
        "name = input('Type a name: ') # Python input prompt\n",
        "for i in range(len(list)):\n",
        "  if list[i] == name:\n",
        "    print (name,'is number',i + 1,'on the list')\n",
        "    break\n",
        "else:\n",
        "  print (name,'is not on the list')"
      ]
    },
    {
      "cell_type": "markdown",
      "metadata": {
        "id": "03hFWDuXsElj"
      },
      "source": [
        "**Fungsi**"
      ]
    },
    {
      "cell_type": "code",
      "execution_count": null,
      "metadata": {
        "colab": {
          "base_uri": "https://localhost:8080/"
        },
        "id": "rFmaYbBqsIZZ",
        "outputId": "0a9edc82-cac8-4427-8063-20550d5d2d71"
      },
      "outputs": [
        {
          "name": "stdout",
          "output_type": "stream",
          "text": [
            "[1, 4, 9, 16]\n"
          ]
        }
      ],
      "source": [
        "def squares(a):\n",
        "  for i in range(len(a)):\n",
        "    a[i]**=2\n",
        "a = [1, 2, 3, 4]\n",
        "squares(a)\n",
        "print (a)"
      ]
    },
    {
      "cell_type": "markdown",
      "metadata": {
        "id": "JiFp40HkteWf"
      },
      "source": [
        "**math Module**"
      ]
    },
    {
      "cell_type": "code",
      "execution_count": 4,
      "metadata": {
        "colab": {
          "base_uri": "https://localhost:8080/"
        },
        "id": "jBqFXe2fth3w",
        "outputId": "f1ee1e29-2062-4011-c757-d1a5fa996ece"
      },
      "outputs": [],
      "source": [
        "from math import log,sin\n",
        "print(log(10))\n",
        "print(sin(0.5))"
      ]
    },
    {
      "cell_type": "code",
      "execution_count": null,
      "metadata": {
        "colab": {
          "base_uri": "https://localhost:8080/"
        },
        "id": "nRN7ddWJt8yJ",
        "outputId": "eba68979-fbf0-4b81-b9d0-09e33e6dad54"
      },
      "outputs": [
        {
          "name": "stdout",
          "output_type": "stream",
          "text": [
            "2.302585092994046\n"
          ]
        }
      ],
      "source": [
        "import math\n",
        "print(math.log(10))"
      ]
    },
    {
      "cell_type": "markdown",
      "metadata": {
        "id": "5ARoC8tBuaev"
      },
      "source": [
        "**Array**"
      ]
    },
    {
      "cell_type": "code",
      "execution_count": null,
      "metadata": {
        "colab": {
          "base_uri": "https://localhost:8080/"
        },
        "id": "HJQ_2lXQuX80",
        "outputId": "44d2644f-756a-45b9-ff65-d68546100bbe"
      },
      "outputs": [
        {
          "name": "stdout",
          "output_type": "stream",
          "text": [
            "21.0\n",
            "[-2. 10. -1.]\n"
          ]
        }
      ],
      "source": [
        "import numpy as np\n",
        "b = [1.0, 4.0, 2.0]\n",
        "print(np.dot(b,b))\n",
        "a = [[ 4.0, -2.0, 1.0], \\\n",
        "[-2.0, 4.0, -2.0], \\\n",
        "[ 1.0, -2.0, 3.0]]\n",
        "print(np.dot(a,b))"
      ]
    },
    {
      "cell_type": "markdown",
      "metadata": {
        "id": "mEo7xfN3z2SU"
      },
      "source": [
        "# **Latihan**"
      ]
    },
    {
      "cell_type": "markdown",
      "metadata": {
        "id": "CUDsVIYXFZwl"
      },
      "source": [
        "**Eksplorasi kode program berikut dengan memberikan keterangan pada setiap tahapannya!**"
      ]
    },
    {
      "cell_type": "code",
      "execution_count": 8,
      "metadata": {
        "id": "Zg8P9rtXwQxA"
      },
      "outputs": [],
      "source": [
        "import numpy as np\n",
        "def my_bisection(g, a, b, e):\n",
        "  if np.sign(g(a)) == np.sign(g(b)):\n",
        "    raise Exception('Tidak ada akar pada interval a dan b')\n",
        "  m = (a + b)/2\n",
        "  if np.abs(g(m)) < e:\n",
        "    return m\n",
        "  elif np.sign(g(a)) == np.sign(g(m)):\n",
        "    return my_bisection(g, m, b, e)\n",
        "  elif np.sign(g(b)) == np.sign(g(m)):\n",
        "    return my_bisection(g, a, m, e)"
      ]
    },
    {
      "cell_type": "markdown",
      "metadata": {
        "id": "Et2Qwr-Rz_hs"
      },
      "source": [
        "**Buatlah Kode Program berikut ini!**"
      ]
    },
    {
      "cell_type": "code",
      "execution_count": null,
      "metadata": {
        "id": "ySNfmge_0NMo"
      },
      "outputs": [],
      "source": [
        "# Definisikan suatu matriks A berordo 2x3 dengan entri-entri yang ditentukan sendiri\n",
        "#tulis code disini\n",
        "matriksA = [[1,2,0],\n",
        "            [2,2,1],]\n",
        "\n",
        "print(\"Matriks A : \");\n",
        "for a in matriksA :\n",
        "    print(a);\n",
        "\n",
        "# Definisikan suatu matriks B berordo 3x3 dengan entri-entri yang ditentukan sendiri\n",
        "#tulis code disini\n",
        "matriksB = [[-1,5,6],\n",
        "            [3,1,2],\n",
        "            [0,1,4]]\n",
        "\n",
        "print(\"Matriks B : \");\n",
        "for b in matriksB :\n",
        "    print(b);\n",
        "\n",
        "# Definisikan suatu matriks C berordo 3x2 dengan entri-entri yang ditentukan sendiri\n",
        "#tulis code disini\n",
        "matriksC = [[0,3],\n",
        "            [9,1],\n",
        "            [3,3]]\n",
        "\n",
        "print(\"Matriks C : \");\n",
        "for c in matriksC :\n",
        "    print(c);\n",
        "# Carilah perkalian matriks A dan B kemudian print hasilnya\n",
        "#tulis code disini\n",
        "hasil1 = [[0,0,0],\n",
        "         [0,0,0]]\n",
        "\n",
        "for i in range(len(matriksA)):\n",
        "   for j in range(len(matriksB[0])):\n",
        "       for k in range(len(matriksB)):\n",
        "           hasil[i][j] += matriksA[i][k] * matriksB[k][j]\n",
        "\n",
        "\n",
        "print(\"\\nHasil Perkalian Matriks A dan B : \");\n",
        "for r in hasil1:\n",
        "   print(r)\n",
        "           \n",
        "# Carilah perkalian matriks B dan C kemudian print hasilnya\n",
        "#tulis code disini\n",
        "hasil2 = [[0,0],\n",
        "         [0,0],\n",
        "         [0,0]]\n",
        "\n",
        "for i in range(len(matriksB)):\n",
        "   for j in range(len(matriksC[0])):\n",
        "       for k in range(len(matriksC)):\n",
        "           hasil2[i][j] += matriksB[i][k] * matriksC[k][j]\n",
        "\n",
        "\n",
        "print(\"\\nHasil Perkalian Matriks B dan C : \");\n",
        "for r in hasil2:\n",
        "   print(r)\n",
        "           \n",
        "# Carilah perkalian matriks C dan A kemudian print hasilnya\n",
        "#tulis code disini\n",
        "hasil3 = [[0,0,0],\n",
        "         [0,0,0],\n",
        "         [0,0,0]]\n",
        "\n",
        "for i in range(len(matriksC)):\n",
        "   for j in range(len(matriksA[0])):\n",
        "       for k in range(len(matriksA)):\n",
        "           hasil3[i][j] += matriksC[i][k] * matriksA[k][j]\n",
        "\n",
        "\n",
        "print(\"\\nHasil Perkalian Matriks C dan A : \");\n",
        "for r in hasil3:\n",
        "   print(r)\n",
        "           "
      ]
    }
  ],
  "metadata": {
    "colab": {
      "provenance": []
    },
    "kernelspec": {
      "display_name": "Python 3.10.7 64-bit",
      "language": "python",
      "name": "python3"
    },
    "language_info": {
      "codemirror_mode": {
        "name": "ipython",
        "version": 3
      },
      "file_extension": ".py",
      "mimetype": "text/x-python",
      "name": "python",
      "nbconvert_exporter": "python",
      "pygments_lexer": "ipython3",
      "version": "3.10.7"
    },
    "vscode": {
      "interpreter": {
        "hash": "27f6fea6f47ae512550f0b8facdbd035a93e1dd89633f7bf2dd00a2502c71d0d"
      }
    }
  },
  "nbformat": 4,
  "nbformat_minor": 0
}
