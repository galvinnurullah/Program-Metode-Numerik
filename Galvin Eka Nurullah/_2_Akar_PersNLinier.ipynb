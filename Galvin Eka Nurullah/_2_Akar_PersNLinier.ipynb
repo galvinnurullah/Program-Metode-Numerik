{
  "cells": [
    {
      "cell_type": "markdown",
      "metadata": {
        "id": "Tlb0XvJxS_oW"
      },
      "source": [
        "## **Akar Persamaan Non-Linier**\n",
        "Berikut ini merupakan fungsi dasar dari metode yang dapat digunakan untuk mencari akar Persamaan non-Linier"
      ]
    },
    {
      "cell_type": "markdown",
      "metadata": {
        "id": "8zXDT3F6UTm8"
      },
      "source": [
        "**Pencarian Akar dengan Library**\n",
        "\n",
        "Contoh Fungsi: f(x) = cos(x)-x"
      ]
    },
    {
      "cell_type": "code",
      "execution_count": 1,
      "metadata": {
        "colab": {
          "base_uri": "https://localhost:8080/"
        },
        "id": "gMnlEqjjUnAa",
        "outputId": "dba31922-a0e9-40d4-b136-dad342f9b7fa"
      },
      "outputs": [
        {
          "name": "stdout",
          "output_type": "stream",
          "text": [
            "r = [0.73908513]\n",
            "result= [0.]\n"
          ]
        }
      ],
      "source": [
        "import numpy as np\n",
        "from scipy import optimize\n",
        "f = lambda x: np.cos(x) - x\n",
        "r = optimize.fsolve(f, -2)\n",
        "print(\"r =\",r)\n",
        "# Verify the solution is a root\n",
        "result = f(r)\n",
        "print(\"result=\", result)"
      ]
    },
    {
      "cell_type": "markdown",
      "metadata": {
        "id": "ySxrsdzGTn0Z"
      },
      "source": [
        "**Metode Bagi Dua**"
      ]
    },
    {
      "cell_type": "code",
      "execution_count": null,
      "metadata": {
        "id": "j7lAxfNeS9M0"
      },
      "outputs": [],
      "source": [
        "import numpy as np #panggil library\n",
        "def my_bisection(f, a, b, e):\n",
        "  if np.sign(f(a)) == np.sign(f(b)):\n",
        "    raise Exception('Tidak ada akar pada interval a dan b')\n",
        "  m = (a + b)/2\n",
        "  if np.abs(f(m)) < e:\n",
        "    return m\n",
        "  elif np.sign(f(a)) == np.sign(f(m)):\n",
        "    return my_bisection(f, m, b, e)\n",
        "  elif np.sign(f(b)) == np.sign(f(m)):\n",
        "    return my_bisection(f, a, m, e)"
      ]
    },
    {
      "cell_type": "markdown",
      "metadata": {
        "id": "QK5X5eINXZln"
      },
      "source": [
        "**Contoh Pencarian Akar dengan Metode Bagi Dua**\n",
        "\n",
        "f(x)=x^2 - 2"
      ]
    },
    {
      "cell_type": "code",
      "execution_count": 12,
      "metadata": {
        "colab": {
          "base_uri": "https://localhost:8080/"
        },
        "id": "eJr_l7e2XyM0",
        "outputId": "9f0a0bf6-a59a-4ae7-fc1c-e4c436d940ea"
      },
      "outputs": [
        {
          "name": "stdout",
          "output_type": "stream",
          "text": [
            "r1 = 1.4375\n",
            "f(r1) = 0.06640625\n",
            "r01 = 1.4140625\n",
            "f(r01) = -0.00042724609375\n"
          ]
        }
      ],
      "source": [
        "import numpy as np #panggil library\n",
        "f = lambda x: x**2-2\n",
        "\n",
        "r1 = my_bisection(f, 0, 2, 0.1)\n",
        "print(\"r1 =\", r1)\n",
        "print(\"f(r1) =\", f(r1))\n",
        "\n",
        "r01 = my_bisection(f, 0, 2, 0.01)\n",
        "print(\"r01 =\", r01)\n",
        "print(\"f(r01) =\", f(r01))"
      ]
    },
    {
      "cell_type": "code",
      "execution_count": 13,
      "metadata": {
        "colab": {
          "base_uri": "https://localhost:8080/",
          "height": 322
        },
        "id": "wXEmWDL3Yh1R",
        "outputId": "66a66430-8175-4210-f0f5-180d79f1eb76"
      },
      "outputs": [
        {
          "ename": "Exception",
          "evalue": "ignored",
          "output_type": "error",
          "traceback": [
            "\u001b[0;31m---------------------------------------------------------------------------\u001b[0m",
            "\u001b[0;31mException\u001b[0m                                 Traceback (most recent call last)",
            "\u001b[0;32m<ipython-input-13-9db7d48a44ca>\u001b[0m in \u001b[0;36m<module>\u001b[0;34m\u001b[0m\n\u001b[1;32m      1\u001b[0m \u001b[0;32mimport\u001b[0m \u001b[0mnumpy\u001b[0m \u001b[0;32mas\u001b[0m \u001b[0mnp\u001b[0m \u001b[0;31m#panggil library\u001b[0m\u001b[0;34m\u001b[0m\u001b[0;34m\u001b[0m\u001b[0m\n\u001b[1;32m      2\u001b[0m \u001b[0mf\u001b[0m \u001b[0;34m=\u001b[0m \u001b[0;32mlambda\u001b[0m \u001b[0mx\u001b[0m\u001b[0;34m:\u001b[0m \u001b[0mx\u001b[0m\u001b[0;34m**\u001b[0m\u001b[0;36m2\u001b[0m\u001b[0;34m-\u001b[0m\u001b[0;36m2\u001b[0m\u001b[0;34m\u001b[0m\u001b[0;34m\u001b[0m\u001b[0m\n\u001b[0;32m----> 3\u001b[0;31m \u001b[0mmy_bisection\u001b[0m\u001b[0;34m(\u001b[0m\u001b[0mf\u001b[0m\u001b[0;34m,\u001b[0m \u001b[0;36m2\u001b[0m\u001b[0;34m,\u001b[0m \u001b[0;36m4\u001b[0m\u001b[0;34m,\u001b[0m \u001b[0;36m0.01\u001b[0m\u001b[0;34m)\u001b[0m\u001b[0;34m\u001b[0m\u001b[0;34m\u001b[0m\u001b[0m\n\u001b[0m",
            "\u001b[0;32m<ipython-input-11-232ee789a6b2>\u001b[0m in \u001b[0;36mmy_bisection\u001b[0;34m(f, a, b, e)\u001b[0m\n\u001b[1;32m      2\u001b[0m \u001b[0;32mdef\u001b[0m \u001b[0mmy_bisection\u001b[0m\u001b[0;34m(\u001b[0m\u001b[0mf\u001b[0m\u001b[0;34m,\u001b[0m \u001b[0ma\u001b[0m\u001b[0;34m,\u001b[0m \u001b[0mb\u001b[0m\u001b[0;34m,\u001b[0m \u001b[0me\u001b[0m\u001b[0;34m)\u001b[0m\u001b[0;34m:\u001b[0m\u001b[0;34m\u001b[0m\u001b[0;34m\u001b[0m\u001b[0m\n\u001b[1;32m      3\u001b[0m   \u001b[0;32mif\u001b[0m \u001b[0mnp\u001b[0m\u001b[0;34m.\u001b[0m\u001b[0msign\u001b[0m\u001b[0;34m(\u001b[0m\u001b[0mf\u001b[0m\u001b[0;34m(\u001b[0m\u001b[0ma\u001b[0m\u001b[0;34m)\u001b[0m\u001b[0;34m)\u001b[0m \u001b[0;34m==\u001b[0m \u001b[0mnp\u001b[0m\u001b[0;34m.\u001b[0m\u001b[0msign\u001b[0m\u001b[0;34m(\u001b[0m\u001b[0mf\u001b[0m\u001b[0;34m(\u001b[0m\u001b[0mb\u001b[0m\u001b[0;34m)\u001b[0m\u001b[0;34m)\u001b[0m\u001b[0;34m:\u001b[0m\u001b[0;34m\u001b[0m\u001b[0;34m\u001b[0m\u001b[0m\n\u001b[0;32m----> 4\u001b[0;31m     \u001b[0;32mraise\u001b[0m \u001b[0mException\u001b[0m\u001b[0;34m(\u001b[0m\u001b[0;34m'Tidak ada akar pada interval a dan b'\u001b[0m\u001b[0;34m)\u001b[0m\u001b[0;34m\u001b[0m\u001b[0;34m\u001b[0m\u001b[0m\n\u001b[0m\u001b[1;32m      5\u001b[0m   \u001b[0mm\u001b[0m \u001b[0;34m=\u001b[0m \u001b[0;34m(\u001b[0m\u001b[0ma\u001b[0m \u001b[0;34m+\u001b[0m \u001b[0mb\u001b[0m\u001b[0;34m)\u001b[0m\u001b[0;34m/\u001b[0m\u001b[0;36m2\u001b[0m\u001b[0;34m\u001b[0m\u001b[0;34m\u001b[0m\u001b[0m\n\u001b[1;32m      6\u001b[0m   \u001b[0;32mif\u001b[0m \u001b[0mnp\u001b[0m\u001b[0;34m.\u001b[0m\u001b[0mabs\u001b[0m\u001b[0;34m(\u001b[0m\u001b[0mf\u001b[0m\u001b[0;34m(\u001b[0m\u001b[0mm\u001b[0m\u001b[0;34m)\u001b[0m\u001b[0;34m)\u001b[0m \u001b[0;34m<\u001b[0m \u001b[0me\u001b[0m\u001b[0;34m:\u001b[0m\u001b[0;34m\u001b[0m\u001b[0;34m\u001b[0m\u001b[0m\n",
            "\u001b[0;31mException\u001b[0m: Tidak ada akar pada interval a dan b"
          ]
        }
      ],
      "source": [
        "import numpy as np #panggil library\n",
        "f = lambda x: x**2-2\n",
        "my_bisection(f, 2, 4, 0.01)"
      ]
    },
    {
      "cell_type": "markdown",
      "metadata": {
        "id": "uqd3qNtxS939"
      },
      "source": [
        "**Metode Newton-Raphson**"
      ]
    },
    {
      "cell_type": "code",
      "execution_count": null,
      "metadata": {
        "id": "NWM7-9tpVr0a"
      },
      "outputs": [],
      "source": [
        "import numpy as np #panggil library\n",
        "def my_newton(f, df, x0, e):\n",
        "# output is an estimation of the root of f\n",
        "# using the Newton-Raphson method\n",
        "# recursive implementation\n",
        "  if abs(f(x0)) < e:\n",
        "    return x0\n",
        "  else:\n",
        "    return my_newton(f, df, x0 - f(x0)/df(x0), e)"
      ]
    },
    {
      "cell_type": "markdown",
      "metadata": {
        "id": "ffztAnc9ZbtI"
      },
      "source": [
        "**Contoh Pencarian Akar dengan Metode Bagi Dua**\n",
        "\n",
        "f(x)=x^2 - 2"
      ]
    },
    {
      "cell_type": "code",
      "execution_count": 15,
      "metadata": {
        "colab": {
          "base_uri": "https://localhost:8080/"
        },
        "id": "zFJnxIytZhln",
        "outputId": "e6d71caf-ed8a-4bd9-8946-7e39709d49c1"
      },
      "outputs": [
        {
          "name": "stdout",
          "output_type": "stream",
          "text": [
            "estimate = 1.4142135623746899\n",
            "sqrt(2) = 1.4142135623730951\n"
          ]
        }
      ],
      "source": [
        "f = lambda x: x**2-2\n",
        "f_prime = lambda x: 2*x\n",
        "estimate = my_newton(f, f_prime, 1.5, 1e-6)\n",
        "print(\"estimate =\", estimate)\n",
        "print(\"sqrt(2) =\",np.sqrt(2))"
      ]
    },
    {
      "cell_type": "markdown",
      "metadata": {
        "id": "_l79MbNaaO9N"
      },
      "source": [
        "# **Latihan**"
      ]
    },
    {
      "cell_type": "markdown",
      "metadata": {
        "id": "XX6f9MQOaTas"
      },
      "source": [
        "**No.1 **\n",
        "Buatlah sebuah fungsi penyelesaian yang tepat baik dengan menggunakan metode Bagi Dua maupun Newton Raphson ketika \n",
        "\n",
        "a. f(x) = x^3 - 2x + 1\n",
        "\n",
        "b. f(x) = e^x - x\n",
        "\n",
        "**No 2**\n",
        "\n",
        "Buatlah modifikasi fungsi ketika kriteria program berhenti adalah sudah mencapai pada iterasi ke-n baik untuk Bagi Dua maupun Newton Raphson"
      ]
    },
    {
      "cell_type": "code",
      "execution_count": null,
      "metadata": {
        "id": "MjocESJra-b5"
      },
      "outputs": [],
      "source": [
        "#No 1 bagian a\n",
        "#f(x) = x^3-2x+1\n",
        "\n",
        "#Bisection\n",
        "\n",
        "import numpy as np #panggil library\n",
        "f = lambda x: x**3-2x+1\n",
        "\n",
        "r1 = my_bisection(f, 0, 2, 0.1)\n",
        "print(\"r1 =\", r1)\n",
        "print(\"f(r1) =\", f(r1))\n",
        "\n",
        "r01 = my_bisection(f, 0, 2, 0.01)\n",
        "print(\"r01 =\", r01)\n",
        "print(\"f(r01) =\", f(r01))"
      ]
    },
    {
      "cell_type": "code",
      "execution_count": null,
      "metadata": {},
      "outputs": [],
      "source": [
        "#No 1 bagian b\n",
        "#f(x) = x^3-2x+1\n",
        "\n",
        "#Newton Raphson\n",
        "\n",
        "import numpy as np #panggil library\n",
        "def my_newton(f, df, x0, e):\n",
        "# output is an estimation of the root of f\n",
        "# using the Newton-Raphson method\n",
        "# recursive implementation\n",
        "f = lambda x: x**3+2x-1\n",
        "df = lambda x: 3*x+2\n",
        "\n",
        "  if abs(f(x0)) < e:\n",
        "    return x0\n",
        "  else:\n",
        "    return my_newton(f, df, x0 - f(x0)/df(x0), e)"
      ]
    },
    {
      "cell_type": "code",
      "execution_count": null,
      "metadata": {},
      "outputs": [],
      "source": [
        "#No 2\n",
        "#f(x) = x^3-2x+1\n",
        "\n",
        "#Bisection\n",
        "\n",
        "#Membuat fungsi bagi dua\n",
        "def bisection(f, a, b, e=10**-4, N = 100):\n",
        "  x_a = a\n",
        "  x_b = b\n",
        "  \n",
        " #Membandingkan f(a)(b) < atau >= 0 \n",
        "  if f(x_a)*f(x_b) >= 0:\n",
        "    print(\"Use another guess range\")\n",
        "    return None\n",
        "  \n",
        "  for n in range (1,N):\n",
        "    x_m = (x_a + x_b)/2\n",
        "    print('|f(x_m)| = ',abs(f(x_m)))\n",
        "    if abs(f(x_m)) < e:\n",
        "      return (x_m)\n",
        "    else:\n",
        "      if f(x_a)*f(x_m) < 0:\n",
        "        x_b = x_m\n",
        "      elif f(x_b)*f(x_m) < 0:\n",
        "        x_a = x_m\n",
        "  return (x_m)\n",
        "\n",
        "f = lambda x: x**3-2x+1\n",
        "a = 0.25\n",
        "b = 1.75\n",
        "x_root = bisection(f,a,b)\n",
        "print(x_root)\n",
        "\n"
      ]
    },
    {
      "cell_type": "code",
      "execution_count": null,
      "metadata": {},
      "outputs": [],
      "source": [
        "#No 2\n",
        "#f(x) = x^3-2x+1\n",
        "\n",
        "#Newton Rapshon\n",
        "\n",
        "def newtons(f,df,x0):\n",
        "      e = 10**-4\n",
        "  N = 100\n",
        "  for i in range (0,N):\n",
        "    if abs(f(x0)) < e:\n",
        "      return x0\n",
        "    if df(x0) == 0:\n",
        "      print(\"Zero derivative\")\n",
        "      return None\n",
        "    x0 = x0 - f(x0)/df(x0)\n",
        "  print(\"Maximum iteration\")\n",
        "  return x0\n",
        "f = lambda x: x**3+2x-1\n",
        "df = lambda x: 3*x+2\n",
        "x0 = 3.5\n",
        "\n",
        "x_root = newtons(f,df,x0)\n",
        "print('Result : ', x_root)_root)"
      ]
    }
  ],
  "metadata": {
    "colab": {
      "provenance": []
    },
    "kernelspec": {
      "display_name": "Python 3",
      "name": "python3"
    },
    "language_info": {
      "name": "python"
    }
  },
  "nbformat": 4,
  "nbformat_minor": 0
}
