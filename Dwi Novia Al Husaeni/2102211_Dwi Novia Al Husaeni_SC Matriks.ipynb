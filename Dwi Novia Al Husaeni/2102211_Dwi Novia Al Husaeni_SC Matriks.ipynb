{
 "cells": [
  {
   "cell_type": "markdown",
   "metadata": {},
   "source": [
    "Dwi Novia Al Husaeni - 2102211 - Pendidikan Ilmu Komputer - B - 2021"
   ]
  },
  {
   "cell_type": "markdown",
   "metadata": {},
   "source": [
    "Soal Nomor 2:\n",
    "Buatlah sebuah program dengan menggunakan bahasa Python untuk:"
   ]
  },
  {
   "cell_type": "markdown",
   "metadata": {},
   "source": [
    "a. Menampilkan matriks A dan B"
   ]
  },
  {
   "cell_type": "code",
   "execution_count": null,
   "metadata": {},
   "outputs": [],
   "source": [
    "#Matriks A\n",
    "matriksA = [[1, 2, 0],[2, 2, 1],[0, 3, 3]]\n",
    "\n",
    "#Menampilkan matriks A \n",
    "print('Matriks A')\n",
    "for x in range(0, len(matriksA)):\n",
    "    for y in range(0, len(matriksA[0])):\n",
    "        print(matriksA[x][y], end=' '),\n",
    "    print()"
   ]
  },
  {
   "cell_type": "code",
   "execution_count": null,
   "metadata": {},
   "outputs": [],
   "source": [
    "#Matriks B\n",
    "matriksB = [[-1, 5],[3, 1],[0, 1]]\n",
    "\n",
    "#Menampilkan matriks B\n",
    "print('Matriks B')\n",
    "for x in range(0, len(matriksB)):\n",
    "    for y in range(0, len(matriksB[0])):\n",
    "        print(matriksB[x][y], end=' '),\n",
    "    print()"
   ]
  },
  {
   "cell_type": "markdown",
   "metadata": {},
   "source": [
    "b. Mengalikan matriks A dan B"
   ]
  },
  {
   "cell_type": "code",
   "execution_count": 9,
   "metadata": {},
   "outputs": [],
   "source": [
    "#Matriks A\n",
    "matriksA = [[1, 2, 0],[2, 2, 1],[0, 3, 3]]\n",
    "\n",
    "#Matriks B\n",
    "matriksB = [[-1, 5],[3, 1],[0, 1]]\n",
    "\n",
    "#Variabel yang akan menyimpan hasil kali matriks A dan B\n",
    "hasilKali = []\n",
    "\n",
    "#Rumus mengalikan matriks A dan B\n",
    "for x in range(0, len(matriksA)):\n",
    "    baris = []\n",
    "    for y in range(0, len(matriksB[0])):\n",
    "        count = 0\n",
    "        for z in range(0, len(matriksB)):\n",
    "            count = count + (matriksA[x][z] * matriksB[z][y])\n",
    "        baris.append(count)\n",
    "    hasilKali.append(baris)"
   ]
  },
  {
   "cell_type": "markdown",
   "metadata": {},
   "source": [
    "c. Menampilkan hasil penjumlahan dan perkalian matriks A dan B"
   ]
  },
  {
   "cell_type": "markdown",
   "metadata": {},
   "source": [
    "Menampilkan hasil penjumlahan matriks A dan B"
   ]
  },
  {
   "cell_type": "code",
   "execution_count": null,
   "metadata": {},
   "outputs": [],
   "source": [
    "#Matriks A\n",
    "matriksA = [[1, 2, 0],[2, 2, 1],[0, 3, 3]]\n",
    "\n",
    "#Matriks B\n",
    "matriksB = [[-1, 5],[3, 1],[0, 1]]\n",
    "\n",
    "#Menampilkan penjumlahan matriks A dan B\n",
    "for x in range(0, len(matriksA)):\n",
    "    for y in range(0, len(matriksA[0])):\n",
    "        print(matriksA[x][y] + matriksB[x][y], end=' ')\n",
    "    print()"
   ]
  },
  {
   "cell_type": "markdown",
   "metadata": {},
   "source": [
    "Catatan: \n",
    "Untuk penjumlahan matriks A dan B akan menghasilkan output error, Kondisi error terjadi karena tidak terpenuhinya syarat penjumlahan matriks. Syarat penjumlahan matriks yaitu harus memiliki ordo yang sama.\n",
    "Jika matriks B diubah ordonya menjadi 3x3 agar sama seperti matriks A, maka penjumlahan matriks menggunakan source code diatas akan berhasil (tidak error). Dibawah ini merupakan source code dari penjumlahan matriks, di mana ordo matriks B telah diubah menjadi 3x3."
   ]
  },
  {
   "cell_type": "code",
   "execution_count": null,
   "metadata": {},
   "outputs": [],
   "source": [
    "#Matriks A\n",
    "matriksA = [[1, 2, 0],[2, 2, 1],[0, 3, 3]]\n",
    "\n",
    "#Matriks B\n",
    "matriksB = [[-1, 5, 0],[3, 1, 0],[0, 1, 0]]\n",
    "\n",
    "#Menampilkan penjumlahan matriks A dan B\n",
    "for x in range(0, len(matriksA)):\n",
    "    for y in range(0, len(matriksA[0])):\n",
    "        print(matriksA[x][y] + matriksB[x][y], end=' ')\n",
    "    print()"
   ]
  },
  {
   "cell_type": "markdown",
   "metadata": {},
   "source": [
    "Menampilkan hasil perkalian matriks A dan B"
   ]
  },
  {
   "cell_type": "code",
   "execution_count": 1,
   "metadata": {},
   "outputs": [
    {
     "name": "stdout",
     "output_type": "stream",
     "text": [
      "Hasil Kali Matriks A dan B\n",
      "5 7 \n",
      "4 13 \n",
      "9 6 \n"
     ]
    }
   ],
   "source": [
    "#Matriks A\n",
    "matriksA = [[1, 2, 0],[2, 2, 1],[0, 3, 3]]\n",
    "\n",
    "#Matriks B\n",
    "matriksB = [[-1, 5],[3, 1],[0, 1]]\n",
    "\n",
    "#Variabel yang akan menyimpan hasil kali matriks A dan B\n",
    "hasilKali = []\n",
    "\n",
    "#Rumus mengalikan matriks A dan B\n",
    "for x in range(0, len(matriksA)):\n",
    "    baris = []\n",
    "    for y in range(0, len(matriksB[0])):\n",
    "        count = 0\n",
    "        for z in range(0, len(matriksB)):\n",
    "            count = count + (matriksA[x][z] * matriksB[z][y])\n",
    "        baris.append(count)\n",
    "    hasilKali.append(baris)\n",
    "\n",
    "#Menampilkan hasil kali matriks A dan B\n",
    "print('Hasil Kali Matriks A dan B')\n",
    "for x in range(0, len(hasilKali)):\n",
    "    for y in range(0, len(hasilKali[0])):\n",
    "        print (hasilKali[x][y], end=' ')\n",
    "    print ()"
   ]
  }
 ],
 "metadata": {
  "kernelspec": {
   "display_name": "Python 3.7.4 32-bit",
   "language": "python",
   "name": "python3"
  },
  "language_info": {
   "codemirror_mode": {
    "name": "ipython",
    "version": 3
   },
   "file_extension": ".py",
   "mimetype": "text/x-python",
   "name": "python",
   "nbconvert_exporter": "python",
   "pygments_lexer": "ipython3",
   "version": "3.7.4"
  },
  "orig_nbformat": 4,
  "vscode": {
   "interpreter": {
    "hash": "ca0c463419cfe645a0c619001383d8905b1acb39f343118d279a91fecd9da474"
   }
  }
 },
 "nbformat": 4,
 "nbformat_minor": 2
}
